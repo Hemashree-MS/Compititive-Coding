{
 "cells": [
  {
   "cell_type": "markdown",
   "id": "b8a581f0-157a-413a-a9dd-e573b6f03157",
   "metadata": {},
   "source": [
    "Day 2"
   ]
  },
  {
   "cell_type": "markdown",
   "id": "ac0a4a6a-3d69-4249-8aa3-4a97378704dd",
   "metadata": {},
   "source": [
    "Hyphens"
   ]
  },
  {
   "cell_type": "code",
   "execution_count": 4,
   "id": "ab00980e-2725-4b61-98f8-fc6ac9c1dcf0",
   "metadata": {},
   "outputs": [],
   "source": [
    "#hello-hi-sir\n",
    "def hyphens(s):\n",
    "    alph = ''\n",
    "    hyp = ''\n",
    "    for i in s:   #h\n",
    "        if i == '-':\n",
    "            hyp = hyp + i\n",
    "        else:\n",
    "            alph = alph + i\n",
    "    return hyp+alph\n"
   ]
  },
  {
   "cell_type": "code",
   "execution_count": 5,
   "id": "bbe31263-7064-4e05-b375-447778591b4b",
   "metadata": {},
   "outputs": [
    {
     "data": {
      "text/plain": [
       "'---hellohisir'"
      ]
     },
     "execution_count": 5,
     "metadata": {},
     "output_type": "execute_result"
    }
   ],
   "source": [
    "hyphens(\"Search-ing-for-a-passion\")\n",
    "hyphens(\"he-llo-hi-sir\")"
   ]
  },
  {
   "cell_type": "markdown",
   "id": "b5eb60d8-1c0e-4567-86d0-a153630f90eb",
   "metadata": {},
   "source": [
    "N-base"
   ]
  },
  {
   "cell_type": "code",
   "execution_count": 27,
   "id": "cd0cf843-fe00-4642-a91a-6e873973e1b3",
   "metadata": {},
   "outputs": [],
   "source": [
    "def nbase(num,n):     #718,  12\n",
    "    remi =[]\n",
    "    while num != 0:\n",
    "        rem = num % n   #10   #11   #4\n",
    "        remi.append(rem)\n",
    "        num = num // n    #59   #4  #0\n",
    "    #conversion:\n",
    "    result = ''\n",
    "    for i in remi:  #10\n",
    "        if i > 9:\n",
    "            c = chr(i+55)\n",
    "            result = result + c\n",
    "        else:\n",
    "            c = str(i)\n",
    "            result = result + c\n",
    "    return result[::-1]"
   ]
  },
  {
   "cell_type": "code",
   "execution_count": 31,
   "id": "5bca27e1-262b-49bb-9551-45d5653fe90d",
   "metadata": {},
   "outputs": [
    {
     "data": {
      "text/plain": [
       "'2C6'"
      ]
     },
     "execution_count": 31,
     "metadata": {},
     "output_type": "execute_result"
    }
   ],
   "source": [
    "nbase(500, 13)"
   ]
  },
  {
   "cell_type": "code",
   "execution_count": 30,
   "id": "9e772eb6-245c-4e86-89ce-ac1fcc710fa0",
   "metadata": {},
   "outputs": [
    {
     "name": "stdout",
     "output_type": "stream",
     "text": [
      "A\n"
     ]
    }
   ],
   "source": [
    "rem = 10\n",
    "c = chr(rem+55)  #65\n",
    "print(c)"
   ]
  },
  {
   "cell_type": "markdown",
   "id": "0f2e0200-6ce5-4008-b842-6e94839e48bf",
   "metadata": {},
   "source": [
    "Password Checker"
   ]
  },
  {
   "cell_type": "code",
   "execution_count": 38,
   "id": "1a61c844-3fdc-4471-a1be-88f94cb35510",
   "metadata": {},
   "outputs": [],
   "source": [
    "def password(pwd):\n",
    "    if len(pwd) < 4:\n",
    "        return 0\n",
    "    if pwd[0].isdigit():\n",
    "        return 0\n",
    "    cap = 0\n",
    "    nu = 0\n",
    "    for i in pwd:   #weAswe34\n",
    "        if i.isupper():\n",
    "            cap = 1\n",
    "        elif i.isdigit():\n",
    "            nu = 1\n",
    "        elif i == \" \" or i == \"/\":\n",
    "            return 0\n",
    "    if cap == 1 and nu == 1:\n",
    "        return 1\n",
    "    else:\n",
    "        return 0        "
   ]
  },
  {
   "cell_type": "code",
   "execution_count": 43,
   "id": "0ae1b2e7-b014-453c-9e42-3b8b45e59e72",
   "metadata": {},
   "outputs": [
    {
     "data": {
      "text/plain": [
       "1"
      ]
     },
     "execution_count": 43,
     "metadata": {},
     "output_type": "execute_result"
    }
   ],
   "source": [
    "password(\"aeRt98\")"
   ]
  },
  {
   "cell_type": "code",
   "execution_count": null,
   "id": "911d5ffb-2b20-4c21-9084-413be5a7dfb6",
   "metadata": {},
   "outputs": [],
   "source": []
  }
 ],
 "metadata": {
  "kernelspec": {
   "display_name": "Python 3 (ipykernel)",
   "language": "python",
   "name": "python3"
  },
  "language_info": {
   "codemirror_mode": {
    "name": "ipython",
    "version": 3
   },
   "file_extension": ".py",
   "mimetype": "text/x-python",
   "name": "python",
   "nbconvert_exporter": "python",
   "pygments_lexer": "ipython3",
   "version": "3.11.7"
  }
 },
 "nbformat": 4,
 "nbformat_minor": 5
}
