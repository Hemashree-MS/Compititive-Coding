{
 "cells": [
  {
   "cell_type": "code",
   "execution_count": 1,
   "id": "dcd0847e-a977-4ac4-a0e4-35bb3f7560ee",
   "metadata": {},
   "outputs": [],
   "source": [
    "def differenceofsum(n,m):\n",
    "    sdiv=0\n",
    "    sndiv=0\n",
    "    for i in range(1,m+1):\n",
    "        if i%n == 0:\n",
    "            sdiv = sdiv + i\n",
    "        else:\n",
    "            sndiv = sndiv + i\n",
    "    return abs(sdiv - sndiv) "
   ]
  },
  {
   "cell_type": "code",
   "execution_count": 2,
   "id": "0c2692cf-944d-47ff-a83c-fa77bc1a4f00",
   "metadata": {},
   "outputs": [
    {
     "data": {
      "text/plain": [
       "110"
      ]
     },
     "execution_count": 2,
     "metadata": {},
     "output_type": "execute_result"
    }
   ],
   "source": [
    "differenceofsum(5,20)"
   ]
  },
  {
   "cell_type": "code",
   "execution_count": 3,
   "id": "08a67445-3232-427e-a1d4-21de9ed6fe18",
   "metadata": {},
   "outputs": [
    {
     "name": "stdout",
     "output_type": "stream",
     "text": [
      "[4, 3, 2]\n",
      "[1, 6, 11]\n"
     ]
    }
   ],
   "source": [
    "arr = [4,1,3,6,2,11]\n",
    "n = len(arr)   #6\n",
    "even = arr[0:n:2]\n",
    "odd = arr[1:n:2] \n",
    "print(even)\n",
    "print(odd)"
   ]
  },
  {
   "cell_type": "code",
   "execution_count": 15,
   "id": "b0bfb31a-e744-4516-a062-bf67c5a1363e",
   "metadata": {},
   "outputs": [],
   "source": [
    "def largesmallsum(arr):\n",
    "    if len(arr)<=3:\n",
    "        return 0\n",
    "    e=[]\n",
    "    o=[]\n",
    "    for i in range(len(arr)):\n",
    "        if i%2 == 0:\n",
    "            e.append(arr[i])\n",
    "        else:\n",
    "            o.append(arr[i])\n",
    "        e.sort(reverse=True)\n",
    "        o.sort() \n",
    "    return (e[1]+o[1])"
   ]
  },
  {
   "cell_type": "code",
   "execution_count": 16,
   "id": "1f3ee3c1-be09-4c77-a833-e9c642aaa493",
   "metadata": {},
   "outputs": [
    {
     "data": {
      "text/plain": [
       "9"
      ]
     },
     "execution_count": 16,
     "metadata": {},
     "output_type": "execute_result"
    }
   ],
   "source": [
    "arr=[4,1,3,6,2,11,5,5]    #largesmallsum([4,1,3,6,2,11,5,5])\n",
    "largesmallsum(arr)"
   ]
  },
  {
   "cell_type": "code",
   "execution_count": 30,
   "id": "bc361283-5635-4a47-9b33-a5c110fe87da",
   "metadata": {},
   "outputs": [],
   "source": [
    "def lss(arr):\n",
    "    n=len(arr)\n",
    "    e=arr[0:n:2]\n",
    "    o=arr[1:n:2]\n",
    "    e.sort(reverse=True)\n",
    "    o.sort()\n",
    "    return e[1]+o[1]"
   ]
  },
  {
   "cell_type": "code",
   "execution_count": 31,
   "id": "3f60d111-1a5a-48d9-82ee-a6bdc751274a",
   "metadata": {},
   "outputs": [
    {
     "data": {
      "text/plain": [
       "9"
      ]
     },
     "execution_count": 31,
     "metadata": {},
     "output_type": "execute_result"
    }
   ],
   "source": [
    "lss([4,1,3,6,2,11,5,5])"
   ]
  },
  {
   "cell_type": "markdown",
   "id": "07eb58c2-03fd-454e-a8df-075af6c48308",
   "metadata": {},
   "source": [
    "Product of smaller pair"
   ]
  },
  {
   "cell_type": "code",
   "execution_count": 25,
   "id": "92d0f6af-17fe-4137-a9fb-1c794f194eb8",
   "metadata": {},
   "outputs": [],
   "source": [
    "def prob(arr,s):\n",
    "    n = len(arr)\n",
    "    if n<2:\n",
    "        return -1\n",
    "    arr.sort()\n",
    "    if arr[0]+arr[1] < s:\n",
    "        return arr[0]*arr[1]\n",
    "    else:\n",
    "        return 0"
   ]
  },
  {
   "cell_type": "code",
   "execution_count": 29,
   "id": "43459b5f-c6ef-4bba-9f6a-e25ae493b409",
   "metadata": {},
   "outputs": [
    {
     "data": {
      "text/plain": [
       "2"
      ]
     },
     "execution_count": 29,
     "metadata": {},
     "output_type": "execute_result"
    }
   ],
   "source": [
    "prob([5,2,1,3,7,8],4)"
   ]
  },
  {
   "cell_type": "markdown",
   "id": "e7809dcf-9301-46b4-aecc-d0057fdf62cb",
   "metadata": {},
   "source": [
    "Absolute Difference :"
   ]
  },
  {
   "cell_type": "code",
   "execution_count": 43,
   "id": "97e36e2e-5dbf-4a4b-8b3e-845f2ae6e25f",
   "metadata": {},
   "outputs": [],
   "source": [
    "def findcount(n,arr,num,diff):\n",
    "    count=0\n",
    "    for i in range(n):\n",
    "        if(abs(arr[i]-num)<=diff):\n",
    "            count += 1\n",
    "    if count:\n",
    "        return count\n",
    "    return 0"
   ]
  },
  {
   "cell_type": "code",
   "execution_count": 44,
   "id": "2bd6d95e-c8d6-4a26-a6a3-099b416e105c",
   "metadata": {},
   "outputs": [
    {
     "data": {
      "text/plain": [
       "3"
      ]
     },
     "execution_count": 44,
     "metadata": {},
     "output_type": "execute_result"
    }
   ],
   "source": [
    "findcount(6,[12,3,14,56,77,13],13,2)"
   ]
  },
  {
   "cell_type": "code",
   "execution_count": 6,
   "id": "d4a69b25-29c4-4766-ac58-3f4bd93a58d5",
   "metadata": {},
   "outputs": [
    {
     "name": "stdout",
     "output_type": "stream",
     "text": [
      "False\n"
     ]
    }
   ],
   "source": [
    "dict1={'(':')','[':']','{':'}'}\n",
    "i=')'\n",
    "print(i in dict1)"
   ]
  },
  {
   "cell_type": "code",
   "execution_count": 9,
   "id": "1e38778f-82d4-405f-9ca3-378468998eef",
   "metadata": {},
   "outputs": [],
   "source": [
    "def validpara(p):\n",
    "    dict1={'(':')','[':']','{':'}'}\n",
    "    stack=[]\n",
    "    for i in p:\n",
    "        if i in dict1:\n",
    "            #found\n",
    "            stack.append(dict1[i])\n",
    "        else:\n",
    "            #not found\n",
    "            if stack[-1]==i:\n",
    "                stack.pop()\n",
    "    if len(stack) == 0:\n",
    "        return \"valid\"\n",
    "    else:\n",
    "        return \"not valid\"\n",
    "            "
   ]
  },
  {
   "cell_type": "code",
   "execution_count": 12,
   "id": "6f8e17f7-ae3a-45d7-b1c9-19fb7b32c4ed",
   "metadata": {},
   "outputs": [
    {
     "data": {
      "text/plain": [
       "'valid'"
      ]
     },
     "execution_count": 12,
     "metadata": {},
     "output_type": "execute_result"
    }
   ],
   "source": [
    "validpara('[{()}]')"
   ]
  },
  {
   "cell_type": "code",
   "execution_count": 4,
   "id": "521b092b-2985-4fda-a756-d3198b1ffa80",
   "metadata": {},
   "outputs": [],
   "source": [
    "def validpara(s):\n",
    "            dict1={'(':')','[':']','{':'}'}\n",
    "            s=[]\n",
    "            for i in s:\n",
    "                if i in dict1:\n",
    "                    s.append(dict1[i])\n",
    "                else:\n",
    "                    if s[-1]==i:\n",
    "                        s.pop()\n",
    "            if len(s) == 0:\n",
    "                return \"true\"\n",
    "            else:\n",
    "                return \"false\""
   ]
  },
  {
   "cell_type": "code",
   "execution_count": 5,
   "id": "ecd4daeb-cb04-4eec-8efd-8cded76395ed",
   "metadata": {},
   "outputs": [
    {
     "data": {
      "text/plain": [
       "'true'"
      ]
     },
     "execution_count": 5,
     "metadata": {},
     "output_type": "execute_result"
    }
   ],
   "source": [
    "validpara('()')"
   ]
  },
  {
   "cell_type": "code",
   "execution_count": null,
   "id": "7e973dc6-419d-4105-bd57-ba68cfd78281",
   "metadata": {},
   "outputs": [],
   "source": []
  }
 ],
 "metadata": {
  "kernelspec": {
   "display_name": "Python 3 (ipykernel)",
   "language": "python",
   "name": "python3"
  },
  "language_info": {
   "codemirror_mode": {
    "name": "ipython",
    "version": 3
   },
   "file_extension": ".py",
   "mimetype": "text/x-python",
   "name": "python",
   "nbconvert_exporter": "python",
   "pygments_lexer": "ipython3",
   "version": "3.11.7"
  }
 },
 "nbformat": 4,
 "nbformat_minor": 5
}
